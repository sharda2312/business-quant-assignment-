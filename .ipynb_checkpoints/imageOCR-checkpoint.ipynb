{
 "cells": [
  {
   "cell_type": "code",
   "execution_count": 9,
   "id": "8bdb193d-56ae-41ae-872b-8bac6fc8050e",
   "metadata": {},
   "outputs": [],
   "source": [
    "# !git clone https://github.com/PaddlePaddle/PaddleOCR.git"
   ]
  },
  {
   "cell_type": "code",
   "execution_count": 10,
   "id": "5a1fb798-b9e9-4714-a973-46676a8b2f8f",
   "metadata": {},
   "outputs": [],
   "source": [
    "# !pip install paddleocr --upgrade\n",
    "# !pip install paddlepaddle"
   ]
  },
  {
   "cell_type": "code",
   "execution_count": 11,
   "id": "2b0efe90-45e2-46d7-b795-6a1a8b195991",
   "metadata": {
    "scrolled": true
   },
   "outputs": [
    {
     "name": "stdout",
     "output_type": "stream",
     "text": [
      "4.9.0\n"
     ]
    }
   ],
   "source": [
    "# !pip install opencv-python-headless\n",
    "# !pip install paddleocr\n",
    "import cv2\n",
    "print(cv2.__version__)\n",
    "import paddle"
   ]
  },
  {
   "cell_type": "code",
   "execution_count": 12,
   "id": "83c8e2b3-0aeb-40df-bead-183de253e54a",
   "metadata": {},
   "outputs": [],
   "source": [
    "# import requests\n",
    "# %cd Paddleocr/ppstructure\n",
    "\n",
    "# !mkdir infernce\n",
    "# %cd infernce\n",
    "\n",
    "\n",
    "# # Define URLs\n",
    "# det_url = \"https://paddleocr.bj.bcebos.com/PP-OCRv3/english/en_PP-OCRv3_det_slim_infer.tar\"\n",
    "# rec_url = \"https://paddleocr.bj.bcebos.com/PP-OCRv3/english/en_PP-OCRv3_rec_slim_infer.tar\"\n",
    "# table_url = \"https://paddleocr.bj.bcebos.com/dygraph_v2.0/table/en_ppocr_mobile_v2.0_table_structure_infer.tar\"\n",
    "\n",
    "# # Define file names\n",
    "# det_filename = \"en_PP-OCRv3_det_slim_distill_infer.tar\"\n",
    "# rec_filename = \"en_PP-OCRv3_rec_slim_infer.tar\"\n",
    "# table_filename = \"en_ppocr_mobile_v2.0_table_structure_infer.tar\"\n",
    "\n",
    "# # Function to download file\n",
    "# def download_file(url, filename):\n",
    "#     response = requests.get(url)\n",
    "#     with open(filename, \"wb\") as f:\n",
    "#         f.write(response.content)\n",
    "\n",
    "# # Download files\n",
    "# download_file(det_url, det_filename)\n",
    "# download_file(rec_url, rec_filename)\n",
    "# download_file(table_url, table_filename)\n"
   ]
  },
  {
   "cell_type": "code",
   "execution_count": 13,
   "id": "55464f9d-2f33-4972-9226-2ffb5eea4733",
   "metadata": {},
   "outputs": [
    {
     "name": "stdout",
     "output_type": "stream",
     "text": [
      "[2024/03/24 23:06:46] ppocr INFO: [0/1] Image/image00047.jpg"
     ]
    },
    {
     "name": "stderr",
     "output_type": "stream",
     "text": [
      "E0324 23:06:40.829075 16624 analysis_config.cc:125] Please use PaddlePaddle with GPU version.\n",
      "E0324 23:06:41.940093 16624 analysis_config.cc:125] Please use PaddlePaddle with GPU version.\n",
      "E0324 23:06:43.122300 16624 analysis_config.cc:125] Please use PaddlePaddle with GPU version.\n",
      "E0324 23:06:44.850967 16624 analysis_config.cc:125] Please use PaddlePaddle with GPU version.\n",
      "--- Logging error ---\n",
      "Traceback (most recent call last):\n",
      "  File \"C:\\Users\\Sharda Prasad Maurya.LAPTOP-4MVRVONI\\AppData\\Local\\Programs\\Python\\Python310\\lib\\logging\\__init__.py\", line 1103, in emit\n",
      "    stream.write(msg + self.terminator)\n",
      "  File \"C:\\Users\\Sharda Prasad Maurya.LAPTOP-4MVRVONI\\AppData\\Local\\Programs\\Python\\Python310\\lib\\encodings\\cp1252.py\", line 19, in encode\n",
      "    return codecs.charmap_encode(input,self.errors,encoding_table)[0]\n",
      "UnicodeEncodeError: 'charmap' codec can't encode character '\\u2212' in position 864: character maps to <undefined>\n",
      "Call stack:\n",
      "  File \"C:\\Users\\Sharda Prasad Maurya.LAPTOP-4MVRVONI\\Desktop\\assignment\\PaddleOCR\\ppstructure\\table\\predict_table.py\", line 230, in <module>\n",
      "    main(args)\n",
      "  File \"C:\\Users\\Sharda Prasad Maurya.LAPTOP-4MVRVONI\\Desktop\\assignment\\PaddleOCR\\ppstructure\\table\\predict_table.py\", line 183, in main\n",
      "    logger.info(pred_html)\n",
      "Message: '<html><body><table><thead><tr><td>A <i>(U</i>lG it d) <i><sup>(1</i></sub>  PilimS</i></sup><i>+ <i>.XC,pt PeFCt<i>g.S)</i></sub></td><td><b>une 30202</b></td><td>Tp it r3</td><td>un 302022  302023</td><td></td><td>a Thp mohthS</sub> d0d Mar3202</td><td><b>Jun 302022</b></td><td><b>une 302</b></td><td>T arCh</sup> 31  2023</td><td></td><td></b></td></tr></thead><tbody><tr><td></td><td></td><td><b>Consotidated</b></td><td></td><td></td><td><b>Premiu</td><td></td><td></td><td>A-Supprted</td><td></td><td></td></tr><tr><td>1H reeu P1ERS CSt 0f roVghub</sup></td><td>3,177 2,411</td><td>3.042</td><td>2.664 2160</sub></td><td>2,773 1+954</td><td>2 713 1-937</td><td>2.504 1+905</td><td></td><td></td><td>329</td><td>.330</td></tr><tr><td></td><td></td><td>2.276 7gg</td><td>070*</td><td></td><td></td><td></td><td></td><td>P527) \\u221223</td><td>.339 \\u221210)</td><td>P356 5</td></tr><tr><td>IESgrs reft tERS gross:margin</td><td>76g 24:1:06</td><td>\\u22652 5.2</b>,</td><td><b>24.<b>6</b> </td><td>739 25</b>.<b>5</b>,</td><td>0776 2.:06</td><td>.700 \\u226525.0;06</td><td></td><td>(5.7)06</td><td>\\u2212(3.0)</td><td><b>\\u22121.1:<b>e</td></tr><tr><td></td><td></td><td></td><td></td><td></td><td></td><td></td><td></td><td></td><td></td><td></td></tr><tr><td>Aten: Less::changesin prior peridd estimatesfor</td><td></td><td></td><td></td><td></td><td></td><td></td><td></td><td></td><td></td><td></td></tr><tr><td>rights holder liabilities</td><td>(g)</td><td>– .---</td><td>11) .31(1))</td><td>\\u2212(3)</td><td>–</td><td>(11)</b></td><td></td><td>5)</td><td>– --.</td><td>-</td></tr><tr><td>Add::CarThing:charge: </i><sub>Add: mP)0y S ranC hd Fpl2fbd</sub></td><td></td><td></td><td></td><td></td><td>-</td><td>31,(1) -</td><td></td><td>--–</td><td></td><td>-</td></tr><tr><td>ag Ad [lbaifpmht aFg 0 Fba) 513fb</sub></td><td>5(4</td><td>3 (5)</td><td>-</td><td>-</td><td>157.</td><td>--</td><td></td><td>(4)</td><td>2(5)</td><td>.–</b></td></tr><tr><td>(t</td><td>7–(2)</td><td></td><td></td><td></td><td>-</td><td></td><td></td><td>(2))</td><td>--.</td><td></td></tr><tr><td>Add::rit-off f Cntt t terrination and er cos</td><td> <sub>39 (3)</sub></td><td>–</td><td>–</td><td>.</td><td>– .1</td><td>-</td><td></td><td>\\u221239(3</td><td>--</td><td></td></tr><tr><td>Ttaaustents</td><td>7555</td><td>32</td><td>205</td><td>(2)</td><td></td><td>20,*</td><td></td><td>5</td><td>22</td><td>.-</td></tr><tr><td>PAluta </b></td><td><b>10</td><td><b>769</b><sup>\\u2212</sup></td><td>724b</td><td><b>757</b>.</td><td><b>\\u2212777</b><sup>\\u2212</td><td><b>\\u2212720</b>*</td><td></td><td>237</td><td><b>\\u2212(5)b</td><td>4°</td></tr><tr><td><b>Adiutedgi()</b></td><td><b>2 5</b>.55</b> )</td><td> <b>2 5. 3</b> <b> °</b></td><td><b>25.3</b> </td><td><b>2</b>.4</b> </b></td><td><b>25.6</b> </td><td>25.g <b>00</b></td><td></td><td><b>\\u2212<b>5.7</b>, </td><td>(2.4)</b></td><td>1.1</b>; <b></b></td></tr><tr><td></td><td></td><td></td><td></td><td></td><td></td><td></td><td></td><td></td><td></td><td></td></tr><tr><td><i> </i><sub>flGudit d) <i><sub>(</sub>:<i>\\u03b5 PiliS</sup> .XC t PrC t 9gS)</i></td><td></td><td></td><td></td><td></td><td></td><td></td><td></td><td></td><td></td><td></td></tr><tr><td></td><td></td><td></td><td></td><td></td><td></td><td></td><td></td><td><sup>1r0 lnthS ndd GrCh 31 2023</td><td></td><td><b>une 320</td></tr><tr><td>1rainl5S</td><td></td><td></td><td></td><td></td><td></td><td></td><td>un 30, 2023 3(247)</td><td>(156)</td><td></td><td>(194</td></tr><tr><td>A</td><td></td><td></td><td></td><td></td><td></td><td></td><td></td><td></td><td></td><td></td></tr><tr><td>LSS:Chanin ririttfi Add: car *hing charge</td><td></td><td></td><td></td><td></td><td></td><td></td><td>(5)</td><td></td><td>---</td><td>(11</td></tr><tr><td>Add:Emlcyeser</td><td></td><td></td><td></td><td></td><td></td><td></td><td>---- 127 ()</td><td></td><td>--</td><td>) -</td></tr><tr><td>A  lgiflgt Chfg O fa)St t t</td><td></td><td></td><td></td><td></td><td></td><td></td><td>g0 <sup>(2)</sup></td><td></td><td>.44(5) -</td><td></td></tr><tr><td>t</b></td><td></td><td></td><td></td><td></td><td></td><td></td><td>51(3))</td><td></td><td>.-</td><td>.-</td></tr><tr><td><b>Tlal di lStightS</b></td><td></td><td></td><td></td><td></td><td></td><td></td><td>135</td><td></td><td>55</td><td>20</td></tr><tr><td><b>Adi Std orating ICSS<sup>(nC-l S</b></td><td></td><td></td><td></td><td></td><td></td><td></td><td></td><td></td><td></td><td>.</td></tr><tr><td></td><td></td><td></td><td></td><td></td><td></td><td></td><td>(112)</td><td></td><td>(112</td><td>(175) </td></tr><tr><td><b>EHS cperating margin</b></td><td></td><td></td><td></td><td></td><td></td><td></td><td>7-gy</td><td></td><td>(5.1)</td><td>(g.g</td></tr><tr><td>eAdjusted operating margin(non-lHRS)</td><td></td><td></td><td></td><td></td><td></td><td></td><td> (3.5)%</td><td></td><td><b>(3.7)%</b>b</td><td>\\u2212(6.1)7 </td></tr><tr><td><sub>(1) HefiectS</sup><sup>tiiChar9<sup> rccorded fr0f diS0ttinuing thb r0duCticn tf Car<sup>Thin9</sub></sub></td><td></td><td></td><td></td><td></td><td></td><td></td><td></td><td></td><td></td><td></td></tr><tr><td><sup>(2) ReflectS</sup> noh cg5hgSSt imaiffent Char9Srlt</td><td></td><td></td><td></td><td></td><td></td><td></td><td></td><td></td><td></td><td></td></tr><tr><td></td><td></td><td></td><td></td><td></td><td></td><td></td><td></td><td></td><td></td><td></td></tr><tr><td>(4) Refiects severance charges incur (57RbflbCtS Sbvefancb Ch</sup></td><td>podcgst opergtions</td><td></td><td></td><td></td><td></td><td></td><td></td><td></td><td></td><td>52</td></tr></tbody></table></body></html>'\n",
      "Arguments: ()\n"
     ]
    },
    {
     "name": "stdout",
     "output_type": "stream",
     "text": [
      "\n",
      "[2024/03/24 23:06:51] ppocr DEBUG: dt_boxes num : 200, elapse : 2.4201722145080566\n",
      "[2024/03/24 23:07:01] ppocr DEBUG: rec_res num  : 200, elapse : 10.545651197433472\n",
      "[2024/03/24 23:07:03] ppocr INFO: excel saved to ./output/table1\\image00047.xlsx\n",
      "[2024/03/24 23:07:03] ppocr INFO: Predict time : 17.557s\n"
     ]
    }
   ],
   "source": [
    "# recognition\n",
    "\n",
    "!python PaddleOCR/ppstructure/table/predict_table.py --det_model_dir=PaddleOCR/ppstructure/infernce/en_ppocr_mobile_v2.0_table_det_infer --rec_model_dir=PaddleOCR/ppstructure/infernce/en_ppocr_mobile_v2.0_table_rec_infer --table_model_dir=PaddleOCR/ppstructure/infernce/en_ppstructure_mobile_v2.0_SLANet_infer --image_dir=Image/image00047.jpg --rec_char_dict_path=PaddleOCR/ppocr/utils/dict/table_dict.txt --table_char_dict_path=PaddleOCR/ppocr/utils/dict/table_structure_dict.txt --det_limit_side_len=736 --det_limit_type=min --output ./output/table1"
   ]
  },
  {
   "cell_type": "code",
   "execution_count": 14,
   "id": "319fd5c9-47ee-40a5-a20c-2cfe4c2bfe83",
   "metadata": {},
   "outputs": [
    {
     "name": "stdout",
     "output_type": "stream",
     "text": [
      "[2024/03/24 23:07:18] ppocr INFO: [0/1] Image/image00045.jpg\n",
      "[2024/03/24 23:07:22] ppocr DEBUG: dt_boxes num : 36, elapse : 1.831197738647461\n",
      "[2024/03/24 23:07:24] ppocr DEBUG: rec_res num  : 36, elapse : 2.3329429626464844\n",
      "[2024/03/24 23:07:24] ppocr INFO: <html><body><table><thead><tr><td></td><td></td><td></td><td></td></tr><tr><td></td><td><b>rgg IBtBS gC</b></td><td><b>larch32023</b></td><td></td></tr></thead><tbody><tr><td></b></td><td></td><td></td><td></td></tr><tr><td>·S<i>GS<sup><i>lS</i> il</i> CDflt GtiDf</sub></i></td><td>(302</td><td>(225)</td><td></td></tr><tr><td>Weightd-avefagg fdinaryharbs ctstadi9</td><td>194,420,12g</td><td>193,562,462</td><td></td></tr><tr><td></b></td><td></td><td><b>(1-1)</td><td></td></tr><tr><td>neteparent</td><td><b>(155)</td><td></td><td></td></tr><tr><td></td><td></td><td></td><td></td></tr><tr><td>MSS tl</td><td>(302)</td><td>(225)</td><td>(125)</td></tr><tr><td>Fair value gains on dilutive Exchangeable Note</td><td></td><td></td><td>(41)</td></tr><tr><td>Net toss lsedin tte cotai ofil </td><td>(302)</td><td>(<sup>25</td><td><b>1G</b></td></tr><tr><td>S</td><td></td><td></td><td></td></tr><tr><td></td><td></td><td>193,562,462</td><td>192 94g, 032</td></tr><tr><td>ExhngbleNt</td><td></td><td></td><td>2.911±500)</td></tr><tr><td><b>Dituted seighted-average crdinary shares</b></td><td></td><td></td><td><b>195,859,532.00</td></tr><tr><td><b>Dilutedloss ershareatribbe</b></td><td></td><td></td><td></td></tr><tr><td><b>noaen)</td><td></td><td></td><td><b>0)</b></td></tr><tr><td></td><td></td><td></td><td></td></tr><tr><td></td><td></td><td></td><td></td></tr><tr><td></td><td></td><td></td><td></td></tr><tr><td></td><td></td><td></td><td></td></tr><tr><td></td><td></td><td></td><td></td></tr><tr><td></td><td></td><td></td><td></td></tr><tr><td></td><td></td><td></td><td></td></tr><tr><td></td><td></td><td></td><td></td></tr><tr><td></td><td></td><td></td><td></td></tr><tr><td></td><td></td><td></td><td></td></tr><tr><td></td><td></td><td></td><td></td></tr><tr><td></td><td></td><td></td><td></td></tr><tr><td></td><td></td><td></td><td></td></tr><tr><td></td><td></td><td></td><td></td></tr><tr><td></td><td></td><td></td><td></td></tr><tr><td></td><td></td><td></td><td></td></tr><tr><td></td><td></td><td></td><td></td></tr><tr><td></td><td></td><td></td><td></td></tr><tr><td></td><td></td><td></td><td></td></tr><tr><td></td><td></td><td></td><td></td></tr><tr><td></td><td></td><td></td><td></td></tr><tr><td></td><td></td><td></td><td></td></tr><tr><td></td><td></td><td></td><td></td></tr><tr><td></td><td></td><td></td><td></td></tr><tr><td></td><td></td><td></td><td></td></tr><tr><td></td><td></td><td></td><td></td></tr><tr><td></td><td></td><td></td><td></td></tr><tr><td></td><td></td><td></td><td></td></tr><tr><td></td><td></td><td></td><td></td></tr><tr><td></td><td></td><td></td><td>y29</td></tr></tbody></table></body></html>\n",
      "[2024/03/24 23:07:25] ppocr INFO: excel saved to ./output/table1\\image00045.xlsx\n",
      "[2024/03/24 23:07:25] ppocr INFO: Predict time : 7.607s\n"
     ]
    },
    {
     "name": "stderr",
     "output_type": "stream",
     "text": [
      "E0324 23:07:12.874851  6816 analysis_config.cc:125] Please use PaddlePaddle with GPU version.\n",
      "E0324 23:07:14.100351  6816 analysis_config.cc:125] Please use PaddlePaddle with GPU version.\n",
      "E0324 23:07:15.357906  6816 analysis_config.cc:125] Please use PaddlePaddle with GPU version.\n",
      "E0324 23:07:16.923892  6816 analysis_config.cc:125] Please use PaddlePaddle with GPU version.\n"
     ]
    }
   ],
   "source": [
    "# recognition\n",
    "\n",
    "!python PaddleOCR/ppstructure/table/predict_table.py --det_model_dir=PaddleOCR/ppstructure/infernce/en_ppocr_mobile_v2.0_table_det_infer --rec_model_dir=PaddleOCR/ppstructure/infernce/en_ppocr_mobile_v2.0_table_rec_infer --table_model_dir=PaddleOCR/ppstructure/infernce/en_ppstructure_mobile_v2.0_SLANet_infer --image_dir=Image/image00045.jpg --rec_char_dict_path=PaddleOCR/ppocr/utils/dict/table_dict.txt --table_char_dict_path=PaddleOCR/ppocr/utils/dict/table_structure_dict.txt --det_limit_side_len=736 --det_limit_type=min --output ./output/table1"
   ]
  },
  {
   "cell_type": "code",
   "execution_count": 15,
   "id": "58203741-2b00-4cc4-954b-7f8391f11fd4",
   "metadata": {},
   "outputs": [
    {
     "name": "stdout",
     "output_type": "stream",
     "text": [
      "[2024/03/24 23:07:51] ppocr INFO: [0/1] Image/image00013.jpg\n",
      "[2024/03/24 23:07:57] ppocr DEBUG: dt_boxes num : 122, elapse : 3.2106807231903076\n",
      "[2024/03/24 23:08:08] ppocr DEBUG: rec_res num  : 122, elapse : 10.454920530319214\n",
      "[2024/03/24 23:08:10] ppocr INFO: excel saved to ./output/table1\\image00013.xlsx\n",
      "[2024/03/24 23:08:10] ppocr INFO: Predict time : 19.520s\n"
     ]
    },
    {
     "name": "stderr",
     "output_type": "stream",
     "text": [
      "E0324 23:07:39.831653 16160 analysis_config.cc:125] Please use PaddlePaddle with GPU version.\n",
      "E0324 23:07:42.344079 16160 analysis_config.cc:125] Please use PaddlePaddle with GPU version.\n",
      "E0324 23:07:44.542560 16160 analysis_config.cc:125] Please use PaddlePaddle with GPU version.\n",
      "E0324 23:07:47.079875 16160 analysis_config.cc:125] Please use PaddlePaddle with GPU version.\n",
      "--- Logging error ---\n",
      "Traceback (most recent call last):\n",
      "  File \"C:\\Users\\Sharda Prasad Maurya.LAPTOP-4MVRVONI\\AppData\\Local\\Programs\\Python\\Python310\\lib\\logging\\__init__.py\", line 1103, in emit\n",
      "    stream.write(msg + self.terminator)\n",
      "  File \"C:\\Users\\Sharda Prasad Maurya.LAPTOP-4MVRVONI\\AppData\\Local\\Programs\\Python\\Python310\\lib\\encodings\\cp1252.py\", line 19, in encode\n",
      "    return codecs.charmap_encode(input,self.errors,encoding_table)[0]\n",
      "UnicodeEncodeError: 'charmap' codec can't encode character '\\u2265' in position 480: character maps to <undefined>\n",
      "Call stack:\n",
      "  File \"C:\\Users\\Sharda Prasad Maurya.LAPTOP-4MVRVONI\\Desktop\\assignment\\PaddleOCR\\ppstructure\\table\\predict_table.py\", line 230, in <module>\n",
      "    main(args)\n",
      "  File \"C:\\Users\\Sharda Prasad Maurya.LAPTOP-4MVRVONI\\Desktop\\assignment\\PaddleOCR\\ppstructure\\table\\predict_table.py\", line 183, in main\n",
      "    logger.info(pred_html)\n",
      "Message: '<html><body><table><thead><tr><td colspan=\"9\"></td></tr></thead><tbody><tr><td></td><td></td><td></td><td><b>ga a944d3 2943d4 a043d3 a923</b></td><td></td><td><b>94 a943</b></td><td>-y</td><td>yy+ bg</td><td></td></tr><tr><td>)</b></td><td></td><td></td><td></td><td></td><td></td><td></td><td></td><td></td></tr><tr><td></td><td>P55g</td><td></td><td><b>551</td><td>574</td><td>e2</td><td>259</td><td></td><td>-.</td></tr><tr><td>P A</td><td>25 \\u2265295</td><td>21 317</td><td>220 5.53</td><td>226 \\u226551</td><td>256 3</td><td>259</td><td></td><td>- ..</td></tr><tr><td></td><td></td><td></td><td></td><td></td><td></td><td></td><td></td><td></td></tr><tr><td>)</b></td><td></td><td>2.713</td><td>2 7.75</td><td>2.910</td><td>5.170</td><td></td><td></td><td></td></tr><tr><td>d</td><td>y2.717</td><td></td><td></td><td>447</td><td></td><td>179 1</td><td></td><td>21 17</td></tr><tr><td></b></td><td>44 31</td><td>52g 3,042</td><td>40 3,1</</td><td><b>h<b>3. 1</td><td><b>3.671</td><td>12 </td><td></td><td><b>\\u226520</b></td></tr><tr><td></td><td></td><td></td><td>7gg</td><td><b></td><td></td><td></td><td></td><td><b>2</td></tr><tr><td></td><td>1 2</td><td>yg 252</td><td><b>23.1</td><td>3</td><td><b>2.7</b></td><td><b>229 2</b></td><td></td><td>\\u2212</td></tr><tr><td></td><td></td><td></td><td></td><td>e<b>g53</td><td><b>.</td><td></td><td></td><td></td></tr><tr><td><b></td><td><b>1</b><b>0.312</sup></td><td>\\u2265922</b></td><td><b>1,013</td><td></td><td></td><td><b>\\u22652</td><td></td><td><b></b></td></tr><tr><td></td><td><b>23</b></td><td><b>(15</td><td><b>(247</td><td>.0</td><td>32 </td><td>-.</b></td><td></td><td>-)</td></tr><tr><td>.</td><td>(.5)</td><td>(5.19</td><td>(7.)</td><td></td><td>0.</td><td></td><td>--</underline></td><td>-.</td></tr><tr><td></td><td></td><td></td><td></td><td></td><td></td><td></td><td></td><td></td></tr><tr><td>NC</td><td>7</td><td><b>5g</td><td></td><td>\\u221215 221 >g</td><td></td><td>57 C</underline></td><td></td><td>\\u2212. C</td></tr><tr><td></td><td>(73</b></td><td><b>57</b></td><td></td><td>21c</td><td><b>3</td><td>\\u2212</underline></td><td></td><td></td></tr><tr><td>)</td><td>5.5</td><td>0..</td><td></td><td>35 0–</td><td><b>4.</td><td>C</td><td></td><td>-.</td></tr><tr><td>s +  </td><td></td><td></td><td></td><td></td><td></td><td></td><td></td><td>.7</td></tr></tbody></table></body></html>'\n",
      "Arguments: ()\n"
     ]
    }
   ],
   "source": [
    "# recognition\n",
    "\n",
    "!python PaddleOCR/ppstructure/table/predict_table.py --det_model_dir=PaddleOCR/ppstructure/infernce/en_ppocr_mobile_v2.0_table_det_infer --rec_model_dir=PaddleOCR/ppstructure/infernce/en_ppocr_mobile_v2.0_table_rec_infer --table_model_dir=PaddleOCR/ppstructure/infernce/en_ppstructure_mobile_v2.0_SLANet_infer --image_dir=Image/image00013.jpg --rec_char_dict_path=PaddleOCR/ppocr/utils/dict/table_dict.txt --table_char_dict_path=PaddleOCR/ppocr/utils/dict/table_structure_dict.txt --det_limit_side_len=736 --det_limit_type=min --output ./output/table1"
   ]
  },
  {
   "cell_type": "code",
   "execution_count": 16,
   "id": "4533b984-bfe0-429d-8831-7cefa5080b54",
   "metadata": {},
   "outputs": [
    {
     "name": "stdout",
     "output_type": "stream",
     "text": [
      "[2024/03/24 23:08:34] ppocr INFO: [0/1] Image/image00016.jpg"
     ]
    },
    {
     "name": "stderr",
     "output_type": "stream",
     "text": [
      "E0324 23:08:27.713634  1608 analysis_config.cc:125] Please use PaddlePaddle with GPU version.\n",
      "E0324 23:08:29.325261  1608 analysis_config.cc:125] Please use PaddlePaddle with GPU version.\n",
      "E0324 23:08:31.523813  1608 analysis_config.cc:125] Please use PaddlePaddle with GPU version.\n",
      "E0324 23:08:33.284600  1608 analysis_config.cc:125] Please use PaddlePaddle with GPU version.\n"
     ]
    },
    {
     "name": "stdout",
     "output_type": "stream",
     "text": [
      "\n",
      "[2024/03/24 23:08:39] ppocr DEBUG: dt_boxes num : 16, elapse : 1.7259199619293213\n",
      "[2024/03/24 23:08:40] ppocr DEBUG: rec_res num  : 16, elapse : 1.20271897315979\n",
      "[2024/03/24 23:08:40] ppocr INFO: <html><body><table><thead><tr><td></td><td></td><td></td><td></td></tr></thead><tbody><tr><td></td><td></td><td></td><td></td></tr><tr><td><b>Mo±ly Actige</td><td></td><td></td><td><b>53</td></tr><tr><td><b> bscibtrs</b></td><td></td><td></td><td>247</td></tr><tr><td></td><td><b><i></td><td></td><td></td></tr><tr><td>taa) G)</td><td></td><td></td><td><b>C32</i></b></td></tr><tr><td><i>A)</i></td><td></td><td></td><td>50/0</td></tr><tr><td></td><td></td><td></td><td></td></tr><tr><td>.ra±3 loss1/l3o</td><td></td><td></td><td></td></tr><tr><td><i>Aoaaoaratl</i> <i>Pggge*</i> </td><td></td><td></td><td><underline></td></tr></tbody></table></body></html>\n",
      "[2024/03/24 23:08:41] ppocr INFO: excel saved to ./output/table1\\image00016.xlsx\n",
      "[2024/03/24 23:08:41] ppocr INFO: Predict time : 6.981s\n"
     ]
    }
   ],
   "source": [
    "# recognition\n",
    "\n",
    "!python PaddleOCR/ppstructure/table/predict_table.py --det_model_dir=PaddleOCR/ppstructure/infernce/en_ppocr_mobile_v2.0_table_det_infer --rec_model_dir=PaddleOCR/ppstructure/infernce/en_ppocr_mobile_v2.0_table_rec_infer --table_model_dir=PaddleOCR/ppstructure/infernce/en_ppstructure_mobile_v2.0_SLANet_infer --image_dir=Image/image00016.jpg --rec_char_dict_path=PaddleOCR/ppocr/utils/dict/table_dict.txt --table_char_dict_path=PaddleOCR/ppocr/utils/dict/table_structure_dict.txt --det_limit_side_len=736 --det_limit_type=min --output ./output/table1"
   ]
  },
  {
   "cell_type": "code",
   "execution_count": 17,
   "id": "335be161-f49d-478e-b288-d1c6366f336c",
   "metadata": {},
   "outputs": [
    {
     "name": "stdout",
     "output_type": "stream",
     "text": [
      "[2024/03/24 23:08:57] ppocr INFO: [0/1] Image/image00046.jpg\n",
      "[2024/03/24 23:09:04] ppocr DEBUG: dt_boxes num : 219, elapse : 4.31733512878418\n",
      "[2024/03/24 23:09:17] ppocr DEBUG: rec_res num  : 219, elapse : 13.386871099472046\n",
      "[2024/03/24 23:09:20] ppocr INFO: excel saved to ./output/table1\\image00046.xlsx\n",
      "[2024/03/24 23:09:20] ppocr INFO: Predict time : 22.766s\n"
     ]
    },
    {
     "name": "stderr",
     "output_type": "stream",
     "text": [
      "E0324 23:08:51.759804 15336 analysis_config.cc:125] Please use PaddlePaddle with GPU version.\n",
      "E0324 23:08:53.087908 15336 analysis_config.cc:125] Please use PaddlePaddle with GPU version.\n",
      "E0324 23:08:54.473845 15336 analysis_config.cc:125] Please use PaddlePaddle with GPU version.\n",
      "E0324 23:08:56.001492 15336 analysis_config.cc:125] Please use PaddlePaddle with GPU version.\n",
      "--- Logging error ---\n",
      "Traceback (most recent call last):\n",
      "  File \"C:\\Users\\Sharda Prasad Maurya.LAPTOP-4MVRVONI\\AppData\\Local\\Programs\\Python\\Python310\\lib\\logging\\__init__.py\", line 1103, in emit\n",
      "    stream.write(msg + self.terminator)\n",
      "  File \"C:\\Users\\Sharda Prasad Maurya.LAPTOP-4MVRVONI\\AppData\\Local\\Programs\\Python\\Python310\\lib\\encodings\\cp1252.py\", line 19, in encode\n",
      "    return codecs.charmap_encode(input,self.errors,encoding_table)[0]\n",
      "UnicodeEncodeError: 'charmap' codec can't encode character '\\u2212' in position 510: character maps to <undefined>\n",
      "Call stack:\n",
      "  File \"C:\\Users\\Sharda Prasad Maurya.LAPTOP-4MVRVONI\\Desktop\\assignment\\PaddleOCR\\ppstructure\\table\\predict_table.py\", line 230, in <module>\n",
      "    main(args)\n",
      "  File \"C:\\Users\\Sharda Prasad Maurya.LAPTOP-4MVRVONI\\Desktop\\assignment\\PaddleOCR\\ppstructure\\table\\predict_table.py\", line 183, in main\n",
      "    logger.info(pred_html)\n",
      "Message: '<html><body><table><thead><tr><td></td><td></td><td></td><td></td><td></td><td></td><td></td><td></td><td></td><td></td><td></td><td></td><td></td><td></td><td></td></tr></thead><tbody><tr><td rowspan=\"3\"><i>( . PiilIiDlS</i>)</i></td><td><b>M</b></td><td><b>Sebtmr</td><td></td><td></td><td>MarCh</sub>31</td><td></td><td><b><sup>TBF00 otS tdod</sup></b></td><td></td><td></td><td></td><td></td><td></td><td><b>Dbc blbbF</sub></b></td><td><b>Mr3</b></td></tr><tr><td>DbtbbbF \\u221231, 2019</td><td><b>2020</td><td>30 2020</td><td>330  2020</td><td>Decerber \\u221231</b>,</td><td><b>20</td><td>ne 30 2021</td><td>S \\u221230,201</td><td>Dcorber Marh31 31,2021 +2022</td><td>3 2022</td><td>.Set)</td><td><b>30,2022</td><td><b>31, 2022</td><td>ure:30 \\u22122023 \\u22122023</td></tr><tr><td>|Nf CaSP f1S</sub> frpm/(uSpd {ph)</sup></td><td>(9</td><td></td><td>122</td><td>107 (35)</td><td>65</td><td>54 (20)</td><td>123 (25)</td><td>119 (16</td><td>37 (10)</td><td>.39 (5</td><td>50 5)</td><td>(70) 5)</td><td>359 133</td></tr><tr><td>p aital exnitrs Change:in.rStrictbd h</td><td>203 (32) (2)</td><td>(12 ..</td><td>39, (15) 2)</td><td>17) 2))</td><td>2</td><td>(24) --.</td><td></td><td>7</td><td></td><td></td><td>3</td><td>.</td><td>2</td><td>(2) (2 -.. \\u03b3(2) </td></tr><tr><td><b>ree</b></td><td><b>169</b></td><td>(21)*</td><td><b>\\u221227</b></td><td><b>103</b></td><td><b>\\u221274</b>.</td><td><b>41</td><td><b>334</b></td><td><b>\\u2212g9</b></td><td>.- <b>103</td><td>(5) 22</td><td><b>37</b>\\u2212</td><td><b>\\u221235</b></td><td>(73)</b></td><td><b>57</b></td></tr><tr><td><i>(lGlditd) <i>(iP</sub> c. PiliCS)</td><td></td><td></td><td></td><td></td><td></td><td></td><td></td><td></td><td></td><td></td><td></td><td></td><td></td><td></td></tr><tr><td></td><td></td><td>to</td><td>ecemr</td><td>Marc  31</td><td>June 30</td><td></b></td><td></td><td><b><sub>LaSt</b> tW0lV0</b><sup> lotthS otdod</sub></b></td><td>Marcn31</td><td></td><td><b>Soptemer</td><td>cer</td><td></td><td></td></tr><tr><td>+Nf CGSB.fl0S</sup>:trpm Oratin9+2Ctiiti0S.</sub></td><td></td><td>502020</b></td><td>320 259</td><td><b>2021</td><td>\\u2212202</td><td>502021 .35</td><td>5102021 .359</td><td>31</td><td>.333</td><td>d 20 31g</td><td>02022</td><td>312022</td><td>r3, 2023</td><td>id  30 .</td></tr><tr><td>Capitalpxpenditures</td><td></td><td>3 (75)</td><td>(7g)</td><td>333,</td><td> (g0)</b></td><td>(g6)</td><td><b>0(104)</b></td><td> (95)</td><td>71)</td><td>(56)</td><td>235 (36)</td><td>P5 (25)</td><td></td><td>42) (17 (15)</td></tr><tr><td>Ca9 tlt C2SB) a</td><td></td><td>(2) \\u221227g</td><td><b>\\u22121g3</b></td><td>)</td><td>2) 245</td><td>252</td><td>3 248</td><td>. \\u2212277</b>–</td><td>() 258</td><td>1) 261</td><td>() 197</td><td>. 21</td><td></td><td>5 . \\u221256 \\u221225<</td></tr><tr><td></td><td></td><td></td><td></td><td></td><td></td><td></td><td></td><td></td><td></td><td></td><td></td><td></td><td></td><td></td></tr><tr><td><i><sub>fl<sub>nSdit )</i></sub> <i>(iD . PiliCfS)</i></td><td></td><td></td><td></td><td></td><td></td><td></td><td></td><td></td><td></td><td></td><td></td><td></td><td></td><td></td></tr><tr><td></td><td></td><td></td><td></td><td></td><td></td><td></td><td></td><td><b>TUglyg<sup>lotlS</sup> gldg 0</b></td><td></td><td></td><td></td><td></td><td></td><td></td></tr><tr><td>Net CBSB</sup>fl0S:from Obbrati9 atiitigS</sup></td><td>Scerber 31,2016 .101</td><td><b>Dombr32017</b></td><td></td><td></td><td></td><td><b>DCfb0r 31+ 201g</b></td><td></td><td></td><td></td><td><b>Db3</b></td><td></td><td><b>DColb0r 31, 2021</b></td><td></td><td>Doomber3 2022 .46</td></tr><tr><td>Caital pxenditrgs Cant)</td><td></td><td>(27)</td><td></td><td>179 (36</td><td></td><td>344 (125)</td><td></td><td>.573 (135</td><td></td><td>259_ (7 2</td><td></td><td>.361 (g5)</td><td></td><td>(25)</td></tr><tr><td></b></td><td></td><td>(1</td><td></td><td></td><td>(</td><td></td><td>10</td><td></td><td></td><td></td><td></td><td></td><td>17</td><td>--</td></tr><tr><td></td><td></td><td></td><td><b>73</b></underline></td><td></td><td><b>109</b></underline></td><td></td><td><b>209</td><td></td><td>2 \\u2212440</td><td></td><td></td><td></td><td><b>277</b>_</td><td><b>21</b></td></tr><tr><td></td><td></td><td></td><td></td><td></td><td></td><td></td><td></td><td></td><td></td><td></td><td><b>13</td><td></td><td></td><td>\\u221251</td></tr></tbody></table></body></html>'\n",
      "Arguments: ()\n"
     ]
    }
   ],
   "source": [
    "# recognition\n",
    "\n",
    "!python PaddleOCR/ppstructure/table/predict_table.py --det_model_dir=PaddleOCR/ppstructure/infernce/en_ppocr_mobile_v2.0_table_det_infer --rec_model_dir=PaddleOCR/ppstructure/infernce/en_ppocr_mobile_v2.0_table_rec_infer --table_model_dir=PaddleOCR/ppstructure/infernce/en_ppstructure_mobile_v2.0_SLANet_infer --image_dir=Image/image00046.jpg --rec_char_dict_path=PaddleOCR/ppocr/utils/dict/table_dict.txt --table_char_dict_path=PaddleOCR/ppocr/utils/dict/table_structure_dict.txt --det_limit_side_len=736 --det_limit_type=min --output ./output/table1"
   ]
  }
 ],
 "metadata": {
  "kernelspec": {
   "display_name": "Python 3 (ipykernel)",
   "language": "python",
   "name": "python3"
  },
  "language_info": {
   "codemirror_mode": {
    "name": "ipython",
    "version": 3
   },
   "file_extension": ".py",
   "mimetype": "text/x-python",
   "name": "python",
   "nbconvert_exporter": "python",
   "pygments_lexer": "ipython3",
   "version": "3.10.7"
  }
 },
 "nbformat": 4,
 "nbformat_minor": 5
}
